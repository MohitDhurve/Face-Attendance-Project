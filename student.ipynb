{
 "cells": [
  {
   "cell_type": "code",
   "execution_count": 1,
   "id": "69d6d48a",
   "metadata": {},
   "outputs": [],
   "source": [
    "import pandas as pd\n",
    "import numpy as np"
   ]
  },
  {
   "cell_type": "code",
   "execution_count": 2,
   "id": "c2ed33fa",
   "metadata": {
    "scrolled": true
   },
   "outputs": [
    {
     "data": {
      "text/html": [
       "<div>\n",
       "<style scoped>\n",
       "    .dataframe tbody tr th:only-of-type {\n",
       "        vertical-align: middle;\n",
       "    }\n",
       "\n",
       "    .dataframe tbody tr th {\n",
       "        vertical-align: top;\n",
       "    }\n",
       "\n",
       "    .dataframe thead th {\n",
       "        text-align: right;\n",
       "    }\n",
       "</style>\n",
       "<table border=\"1\" class=\"dataframe\">\n",
       "  <thead>\n",
       "    <tr style=\"text-align: right;\">\n",
       "      <th></th>\n",
       "      <th>Scholar No</th>\n",
       "      <th>Name of Student</th>\n",
       "    </tr>\n",
       "  </thead>\n",
       "  <tbody>\n",
       "    <tr>\n",
       "      <th>0</th>\n",
       "      <td>211112201</td>\n",
       "      <td>AMRIT RAJ</td>\n",
       "    </tr>\n",
       "    <tr>\n",
       "      <th>1</th>\n",
       "      <td>211112202</td>\n",
       "      <td>AMRIT RAJ</td>\n",
       "    </tr>\n",
       "    <tr>\n",
       "      <th>2</th>\n",
       "      <td>211112204</td>\n",
       "      <td>OJAS ROHIT BHAT</td>\n",
       "    </tr>\n",
       "    <tr>\n",
       "      <th>3</th>\n",
       "      <td>211112205</td>\n",
       "      <td>MANAV GUPTA</td>\n",
       "    </tr>\n",
       "    <tr>\n",
       "      <th>4</th>\n",
       "      <td>211112206</td>\n",
       "      <td>ESHIKA KUMARI</td>\n",
       "    </tr>\n",
       "    <tr>\n",
       "      <th>5</th>\n",
       "      <td>211112207</td>\n",
       "      <td>VAIBHAV GUPTA</td>\n",
       "    </tr>\n",
       "    <tr>\n",
       "      <th>6</th>\n",
       "      <td>211112208</td>\n",
       "      <td>RAJNEESH KUSHWAHA</td>\n",
       "    </tr>\n",
       "    <tr>\n",
       "      <th>7</th>\n",
       "      <td>211112209</td>\n",
       "      <td>AADARSH JAISWAL</td>\n",
       "    </tr>\n",
       "    <tr>\n",
       "      <th>8</th>\n",
       "      <td>211112210</td>\n",
       "      <td>PARAG MAHAJAN</td>\n",
       "    </tr>\n",
       "    <tr>\n",
       "      <th>9</th>\n",
       "      <td>211112211</td>\n",
       "      <td>MOHD ZISHAN KHAN</td>\n",
       "    </tr>\n",
       "  </tbody>\n",
       "</table>\n",
       "</div>"
      ],
      "text/plain": [
       "  Scholar No    Name of Student\n",
       "0  211112201          AMRIT RAJ\n",
       "1  211112202          AMRIT RAJ\n",
       "2  211112204    OJAS ROHIT BHAT\n",
       "3  211112205        MANAV GUPTA\n",
       "4  211112206      ESHIKA KUMARI\n",
       "5  211112207      VAIBHAV GUPTA\n",
       "6  211112208  RAJNEESH KUSHWAHA\n",
       "7  211112209    AADARSH JAISWAL\n",
       "8  211112210      PARAG MAHAJAN\n",
       "9  211112211   MOHD ZISHAN KHAN"
      ]
     },
     "execution_count": 2,
     "metadata": {},
     "output_type": "execute_result"
    }
   ],
   "source": [
    "df = pd.read_csv('data (1).csv')\n",
    "df.head(10)"
   ]
  },
  {
   "cell_type": "code",
   "execution_count": 20,
   "id": "258f1641",
   "metadata": {},
   "outputs": [
    {
     "name": "stdout",
     "output_type": "stream",
     "text": [
      "['211112201', '211112202', '211112204', '211112205', '211112206', '211112207', '211112208', '211112209', '211112210', '211112211', '211112212', '211112213', '211112214', '211112215', '211112216', '211112217', '211112218', '211112219', '211112220', '211112221', '211112222', '211112223', '211112224', '211112225', '211112226', '211112227', '211112228', '211112229', '211112230', '211112231', '211112232', '211112233', '211112234', '211112235', '211112236', '211112237', '211112238', '211112239', '211112240', '211112241', '211112242', '211112243', '211112244', '211112245', '211112246', '211112247', nan, nan, 'TABLE 2', nan, '211112248', '211112249', '211112250', '211112251', '211112252', '211112253', '211112254', '211112255', '211112256', '211112257', '211112258', '211112259', '211112260', '211112261', '211112262', '211112263', '211112264', '211112265', '211112266', '211112267', '211112268', '211112269', '211112270', '211112271', '211112272', '211112273', '211112274', '211112275', '211112276', '211112277', '211112278', '211112279', '211112280']\n",
      "<class 'list'>\n"
     ]
    }
   ],
   "source": [
    "x = pd.Series(df['Scholar No']).to_numpy()\n",
    "x = x.tolist()\n",
    "print(x)\n",
    "print(type(x))"
   ]
  },
  {
   "cell_type": "code",
   "execution_count": 11,
   "id": "b2af5b50",
   "metadata": {},
   "outputs": [
    {
     "name": "stdout",
     "output_type": "stream",
     "text": [
      "['AMRIT RAJ', 'AMRIT RAJ', 'OJAS ROHIT BHAT', 'MANAV GUPTA', 'ESHIKA KUMARI', 'VAIBHAV GUPTA', 'RAJNEESH KUSHWAHA', 'AADARSH JAISWAL', 'PARAG MAHAJAN', 'MOHD ZISHAN KHAN', 'SUDHANSU SHEKHAR KANHAR', 'RISHI GUPTA', 'ADITYA PRATAP SINGH RAJPUT', 'MADHUR GYANI', 'SAMRIDDHI TRIPATHI', 'AMAN RAJORIYA', 'PULKIT BHASKAR', 'B B P VISHNU VARDHAN', 'JAYESH DARBAR', 'MOHIT DHURVE', 'UTTAM SETHI', 'AMAN SAHU', 'TILAK MANGAL', 'HARSH RAJ', 'TANISHK SHARMA', 'HARSHIT SINGH THAKUR', 'ETTE DIVYA NIKITHA', 'AMAN ANAND', 'ANANT KUMAR TIWARI', 'TRISHAL MAKHIJA', 'VEDANT RATHORE', 'ADITI MISHRA', 'MOHIT MAHOR', 'TALUPULA SREEDHARAN', 'BHUPELLI VINAY', 'KRISHUN UDDESHIYA', 'SIDDHANT PATIL', 'RINKI KURMI', 'KARTIK SHRIVASTAV', 'NATHA GEETHIKA SRI', 'AYUSHI VERMA', 'SANSKAR VERMA', 'KARIRA KISHORE VIJAY', 'VIKASH PAL', 'KALASH MANTRI', 'SHIVANI NARWARIYA', nan, nan, nan, nan, 'DEEPANSHU JAIN', 'PARTH RAJPUT', 'NELLUTLA PRANAV', 'AKSHAY SONI', 'ASHAY JAIN', 'AKSHAT MAHESHWARI', 'PRATHAM PALI', 'VAISHNAVI GUPTA', 'MUFADDAL SAIFEE', 'ANAND KUMAR', 'PRATEEK KUMAR TRIPATHI', 'DEVENDRA', 'SANSKAR KUMAR', 'SHASWAT KASHYAP', 'VAIBHAV PATEL', 'SUNNY KUMAR SINGH', 'FALGUNI SURESH BHOWATE', 'RISHIKESH KADA', 'PRAKHAR SAXENA', 'PAVIT CHHABRA', 'NIKET RALEBHAT', 'MURAMREDDY OMKARNATH REDDY', 'MOHAN KUMAR', 'DASARI KEERTHI', 'AKSHAT SAXENA', 'ADITI SINGH', 'BALAM SAINADH', 'ADITYA KUMAR', 'SHIVAM PRABHU', 'KARTIK TIWARI', 'RAJAT', 'SAATVIK TAMMISHETTY', 'RAMA BHALA']\n",
      "<class 'list'>\n"
     ]
    }
   ],
   "source": [
    "y = pd.Series(df['Name of Student']).to_numpy()\n",
    "y = y.tolist()\n",
    "print(y)\n",
    "print(type(y))"
   ]
  },
  {
   "cell_type": "code",
   "execution_count": 21,
   "id": "3d52273a",
   "metadata": {},
   "outputs": [
    {
     "name": "stdout",
     "output_type": "stream",
     "text": [
      "yes\n"
     ]
    }
   ],
   "source": [
    "a = '211112221'\n",
    "b = 'MOHIT DHURVE'\n",
    "\n",
    "for p,q in zip(x,y):\n",
    "    if p == a and q == b:\n",
    "        print('yes')\n",
    "        break"
   ]
  },
  {
   "cell_type": "code",
   "execution_count": 7,
   "id": "15c16136",
   "metadata": {},
   "outputs": [
    {
     "name": "stdout",
     "output_type": "stream",
     "text": [
      "<class 'list'>\n"
     ]
    }
   ],
   "source": [
    "# for name match\n",
    "y = pd.Series(df['Name of Student']).to_numpy()\n",
    "y = y.tolist()\n",
    "print(type(y))"
   ]
  },
  {
   "cell_type": "code",
   "execution_count": 8,
   "id": "7bfae1d6",
   "metadata": {},
   "outputs": [
    {
     "name": "stdout",
     "output_type": "stream",
     "text": [
      "yes\n"
     ]
    }
   ],
   "source": [
    "name = 'MOHIT DHURVE'\n",
    "\n",
    "for b in y:\n",
    "    if b == name:\n",
    "        print('yes')\n",
    "        break"
   ]
  },
  {
   "cell_type": "code",
   "execution_count": 9,
   "id": "441bac56",
   "metadata": {},
   "outputs": [
    {
     "name": "stdout",
     "output_type": "stream",
     "text": [
      "<class 'list'> <class 'str'>\n"
     ]
    }
   ],
   "source": [
    "print(type(y),type(name))"
   ]
  },
  {
   "cell_type": "code",
   "execution_count": 10,
   "id": "f515478d",
   "metadata": {},
   "outputs": [
    {
     "name": "stdout",
     "output_type": "stream",
     "text": [
      "no\n"
     ]
    }
   ],
   "source": [
    "for a, b in zip(x,y):\n",
    "    if a == y and b == name:\n",
    "        print('yes')\n",
    "        break\n",
    "print('no')"
   ]
  }
 ],
 "metadata": {
  "kernelspec": {
   "display_name": "Python 3 (ipykernel)",
   "language": "python",
   "name": "python3"
  },
  "language_info": {
   "codemirror_mode": {
    "name": "ipython",
    "version": 3
   },
   "file_extension": ".py",
   "mimetype": "text/x-python",
   "name": "python",
   "nbconvert_exporter": "python",
   "pygments_lexer": "ipython3",
   "version": "3.11.5"
  }
 },
 "nbformat": 4,
 "nbformat_minor": 5
}
